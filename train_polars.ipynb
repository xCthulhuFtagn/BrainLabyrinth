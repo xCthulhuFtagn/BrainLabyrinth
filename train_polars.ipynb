{
 "cells": [
  {
   "cell_type": "code",
   "execution_count": 5,
   "metadata": {},
   "outputs": [],
   "source": [
    "import torch\n",
    "import torch.nn as nn\n",
    "import torch.optim as optim\n",
    "from torch.utils.data import DataLoader, Dataset\n",
    "from torch.nn.utils.rnn import pad_sequence\n",
    "import torch.nn.functional as F\n",
    "from torch.utils.tensorboard import SummaryWriter\n",
    "\n",
    "import polars as pl\n",
    "\n",
    "from sklearn.model_selection import train_test_split\n",
    "\n",
    "from tqdm.notebook import tqdm"
   ]
  },
  {
   "cell_type": "code",
   "execution_count": 6,
   "metadata": {},
   "outputs": [],
   "source": [
    "class EventDataset(Dataset):\n",
    "    def __init__(self, path):\n",
    "        self.__dataframe = pl.read_parquet(path)\n",
    "        self.__event_ids = self.__dataframe['event_id'].unique().to_list()\n",
    "        self.__len = len(self.__event_ids)\n",
    "        print(self.__dataframe.columns)\n",
    "\n",
    "    def __len__(self):\n",
    "        return self.__len\n",
    "\n",
    "    def __getitem__(self, idx):\n",
    "        event_id = self.__event_ids[idx]\n",
    "        event_rows = self.__dataframe.filter(pl.col('event_id') == event_id)\n",
    "        # Convert the event rows to a tensor\n",
    "        event_tensor = torch.tensor(event_rows.drop(['event_id', 'time', 'marker', '__null_dask_index__']).to_numpy(), dtype=torch.float32)\n",
    "        marker = torch.tensor(event_rows['marker'].to_list()[0] == 'Stimulus/P', dtype=torch.float32)\n",
    "        return marker, event_tensor\n",
    "\n",
    "    def class_balance(self):\n",
    "        positives = 0\n",
    "        negatives = 0\n",
    "        for idx in tqdm(range(self.__len), desc=\"Counting class values..\"):\n",
    "            marker, event_tensor = self.__getitem__(idx)\n",
    "            if marker == 0.:\n",
    "                negatives += 1\n",
    "            else:\n",
    "                positives += 1\n",
    "        return positives, negatives"
   ]
  },
  {
   "cell_type": "code",
   "execution_count": 7,
   "metadata": {},
   "outputs": [
    {
     "name": "stdout",
     "output_type": "stream",
     "text": [
      "['event_id', 'marker', 'time', 'Fp1', 'Fpz', 'Fp2', 'F7', 'F3', 'Fz', 'F4', 'F8', 'FC5', 'FC1', 'FC2', 'FC6', 'M1', 'T7', 'C3', 'Cz', 'C4', 'T8', 'M2', 'CP5', 'CP1', 'CP2', 'CP6', 'P7', 'P3', 'Pz', 'P4', 'P8', 'POz', 'O1', 'O2', 'EOG', 'AF7', 'AF3', 'AF4', 'AF8', 'F5', 'F1', 'F2', 'F6', 'FC3', 'FCz', 'FC4', 'C5', 'C1', 'C2', 'C6', 'CP3', 'CP4', 'P5', 'P1', 'P2', 'P6', 'PO5', 'PO3', 'PO4', 'PO6', 'FT7', 'FT8', 'TP7', 'TP8', 'PO7', 'PO8', 'Oz', '__null_dask_index__']\n"
     ]
    },
    {
     "data": {
      "application/vnd.jupyter.widget-view+json": {
       "model_id": "a489ff178eac4d23bdd7f151142e0c3b",
       "version_major": 2,
       "version_minor": 0
      },
      "text/plain": [
       "Counting class values..:   0%|          | 0/2914 [00:00<?, ?it/s]"
      ]
     },
     "metadata": {},
     "output_type": "display_data"
    },
    {
     "data": {
      "text/plain": [
       "(896, 2018)"
      ]
     },
     "execution_count": 7,
     "metadata": {},
     "output_type": "execute_result"
    }
   ],
   "source": [
    "# Define the directory containing the Parquet files\n",
    "parquet_directory = '/home/owner/Documents/DEV/BrainLabyrinth/data/combined.parquet'\n",
    "\n",
    "def collate_fn(batch):\n",
    "    max_length = 2000  # Fixed length for all sequences\n",
    "    markers, tensors = zip(*batch)\n",
    "\n",
    "    batch_size = len(tensors)\n",
    "    num_features = tensors[0].size(1)  # Assuming all tensors have the same number of features\n",
    "\n",
    "    # Pre-allocate a tensor of the desired shape\n",
    "    padded_tensors = torch.zeros((batch_size, max_length, num_features), dtype=torch.float32)\n",
    "\n",
    "    for i, tensor in enumerate(tensors):\n",
    "        length = tensor.size(0)\n",
    "        if length < max_length:\n",
    "            padded_tensors[i, :length, :] = tensor\n",
    "        else:\n",
    "            padded_tensors[i, :max_length, :] = tensor[:max_length]\n",
    "\n",
    "    # Convert markers to a tensor\n",
    "    markers = torch.tensor(markers, dtype=torch.float32)\n",
    "\n",
    "    return markers, padded_tensors\n",
    "\n",
    "dataset = EventDataset(parquet_directory)\n",
    "dataset.class_balance()"
   ]
  },
  {
   "cell_type": "code",
   "execution_count": null,
   "metadata": {},
   "outputs": [
    {
     "name": "stdout",
     "output_type": "stream",
     "text": [
      "['event_id', 'marker', 'time', 'Fp1', 'Fpz', 'Fp2', 'F7', 'F3', 'Fz', 'F4', 'F8', 'FC5', 'FC1', 'FC2', 'FC6', 'M1', 'T7', 'C3', 'Cz', 'C4', 'T8', 'M2', 'CP5', 'CP1', 'CP2', 'CP6', 'P7', 'P3', 'Pz', 'P4', 'P8', 'POz', 'O1', 'O2', 'EOG', 'AF7', 'AF3', 'AF4', 'AF8', 'F5', 'F1', 'F2', 'F6', 'FC3', 'FCz', 'FC4', 'C5', 'C1', 'C2', 'C6', 'CP3', 'CP4', 'P5', 'P1', 'P2', 'P6', 'PO5', 'PO3', 'PO4', 'PO6', 'FT7', 'FT8', 'TP7', 'TP8', 'PO7', 'PO8', 'Oz', '__null_dask_index__']\n",
      "Training start\n"
     ]
    },
    {
     "ename": "TypeError",
     "evalue": "'float' object cannot be interpreted as an integer",
     "output_type": "error",
     "traceback": [
      "\u001b[0;31m---------------------------------------------------------------------------\u001b[0m",
      "\u001b[0;31mTypeError\u001b[0m                                 Traceback (most recent call last)",
      "Cell \u001b[0;32mIn[21], line 65\u001b[0m\n\u001b[1;32m     63\u001b[0m \u001b[38;5;28mprint\u001b[39m(\u001b[38;5;124m\"\u001b[39m\u001b[38;5;124mTraining start\u001b[39m\u001b[38;5;124m\"\u001b[39m)\n\u001b[1;32m     64\u001b[0m \u001b[38;5;66;03m# Training loop\u001b[39;00m\n\u001b[0;32m---> 65\u001b[0m \u001b[38;5;28;01mfor\u001b[39;00m epoch \u001b[38;5;129;01min\u001b[39;00m tqdm(\u001b[38;5;28;43mrange\u001b[39;49m\u001b[43m(\u001b[49m\u001b[43mnum_epochs\u001b[49m\u001b[43m)\u001b[49m):\n\u001b[1;32m     66\u001b[0m     model\u001b[38;5;241m.\u001b[39mtrain()\n\u001b[1;32m     67\u001b[0m     \u001b[38;5;28;01mfor\u001b[39;00m i, (markers, features) \u001b[38;5;129;01min\u001b[39;00m tqdm(\u001b[38;5;28menumerate\u001b[39m(train_loader)):\n",
      "\u001b[0;31mTypeError\u001b[0m: 'float' object cannot be interpreted as an integer"
     ]
    }
   ],
   "source": [
    "import torch\n",
    "import torch.nn as nn\n",
    "import torch.optim as optim\n",
    "from torch.utils.data import DataLoader, random_split\n",
    "from torch.utils.tensorboard import SummaryWriter\n",
    "from tqdm.notebook import tqdm\n",
    "from sklearn.metrics import accuracy_score, precision_score, recall_score, f1_score\n",
    "\n",
    "class RNNClassifier(nn.Module):\n",
    "    def __init__(self, input_size, hidden_size, num_layers, output_size):\n",
    "        super(RNNClassifier, self).__init__()\n",
    "        self.hidden_size = hidden_size\n",
    "        self.num_layers = num_layers\n",
    "        self.lstm = nn.LSTM(input_size, hidden_size, num_layers, batch_first=True)\n",
    "        self.fc = nn.Linear(hidden_size, output_size)\n",
    "\n",
    "    def forward(self, x):\n",
    "        h0 = torch.zeros(self.num_layers, x.size(0), self.hidden_size).to(x.device)\n",
    "        c0 = torch.zeros(self.num_layers, x.size(0), self.hidden_size).to(x.device)\n",
    "\n",
    "        out, _ = self.lstm(x, (h0, c0))\n",
    "        out = self.fc(out[:, -1, :])\n",
    "        return out\n",
    "\n",
    "# Hyperparameters\n",
    "input_size = 64  # Number of features\n",
    "hidden_size = 256  # Number of features in the hidden state\n",
    "num_layers = 1  # Number of recurrent layers\n",
    "output_size = 1  # Number of output classes (binary classification)\n",
    "learning_rate = 3e-3\n",
    "num_epochs = 10_000\n",
    "batch_size = 128\n",
    "\n",
    "# Check if a GPU is available and set the device\n",
    "device = torch.device('cuda' if torch.cuda.is_available() else 'cpu')\n",
    "\n",
    "# Initialize the model, loss function, and optimizer\n",
    "model = RNNClassifier(input_size, hidden_size, num_layers, output_size).to(device)\n",
    "criterion = nn.BCEWithLogitsLoss()\n",
    "optimizer = optim.Adam(model.parameters(), lr=learning_rate)\n",
    "\n",
    "# Create a DataLoader for the dataset\n",
    "dataset = EventDataset(parquet_directory)\n",
    "\n",
    "# Split the dataset into training, validation, and test sets\n",
    "train_size = int(0.7 * len(dataset))\n",
    "val_size = int(0.15 * len(dataset))\n",
    "test_size = len(dataset) - train_size - val_size\n",
    "train_dataset, val_dataset, test_dataset = random_split(dataset, [train_size, val_size, test_size])\n",
    "\n",
    "del dataset\n",
    "\n",
    "train_loader = DataLoader(train_dataset, batch_size=batch_size, shuffle=True, collate_fn=collate_fn)\n",
    "val_loader = DataLoader(val_dataset, batch_size=batch_size, shuffle=False, collate_fn=collate_fn)\n",
    "test_loader = DataLoader(test_dataset, batch_size=batch_size, shuffle=False, collate_fn=collate_fn)\n",
    "\n",
    "# Initialize TensorBoard writer\n",
    "writer = SummaryWriter()\n",
    "\n",
    "# Initialize variables to track the best validation loss\n",
    "best_val_loss = float('inf')\n",
    "\n",
    "print(\"Training start\")\n",
    "# Training loop\n",
    "for epoch in tqdm(range(num_epochs)):\n",
    "    model.train()\n",
    "    for i, (markers, features) in enumerate(train_loader):\n",
    "\n",
    "        features = features.to(device)  # Move features to the device\n",
    "        markers = markers.unsqueeze(-1).to(device)\n",
    "\n",
    "        outputs = model(features)\n",
    "        loss = criterion(outputs, markers)\n",
    "        optimizer.zero_grad()\n",
    "        loss.backward()\n",
    "        optimizer.step()\n",
    "\n",
    "        # Log the loss to TensorBoard\n",
    "        writer.add_scalar('Loss/train', loss.item(), epoch * len(train_loader) + i)\n",
    "\n",
    "    # Validation step\n",
    "    model.eval()\n",
    "    val_loss = 0\n",
    "    all_markers = []\n",
    "    all_predictions = []\n",
    "    with torch.no_grad():\n",
    "        for i, (markers, features) in enumerate(val_loader):\n",
    "            features = features.to(device)\n",
    "            markers = markers.unsqueeze(-1).to(device)\n",
    "\n",
    "            outputs = model(features)\n",
    "            loss = criterion(outputs, markers)\n",
    "            val_loss += loss.item()\n",
    "\n",
    "            # Collect markers and predictions for metrics calculation\n",
    "            all_markers.extend(markers.cpu().numpy().flatten())\n",
    "            all_predictions.extend(torch.sigmoid(outputs).cpu().numpy().flatten())\n",
    "\n",
    "    val_loss /= len(val_loader)\n",
    "    writer.add_scalar('Loss/val', val_loss, epoch)\n",
    "\n",
    "    # Calculate validation metrics\n",
    "    accuracy = accuracy_score(all_markers, [1 if p > 0.5 else 0 for p in all_predictions])\n",
    "    precision = precision_score(all_markers, [1 if p > 0.5 else 0 for p in all_predictions])\n",
    "    recall = recall_score(all_markers, [1 if p > 0.5 else 0 for p in all_predictions])\n",
    "    f1 = f1_score(all_markers, [1 if p > 0.5 else 0 for p in all_predictions])\n",
    "\n",
    "    # Log validation metrics to TensorBoard\n",
    "    writer.add_scalar('Metrics/val_accuracy', accuracy, epoch)\n",
    "    writer.add_scalar('Metrics/val_precision', precision, epoch)\n",
    "    writer.add_scalar('Metrics/val_recall', recall, epoch)\n",
    "    writer.add_scalar('Metrics/val_f1', f1, epoch)\n",
    "\n",
    "    # Save the model if the current validation"
   ]
  },
  {
   "cell_type": "code",
   "execution_count": 18,
   "metadata": {},
   "outputs": [
    {
     "name": "stderr",
     "output_type": "stream",
     "text": [
      "28it [00:01, 26.14it/s]\n"
     ]
    }
   ],
   "source": [
    "import torch\n",
    "from tqdm import tqdm\n",
    "from sklearn.metrics import accuracy_score, precision_score, recall_score, f1_score, roc_auc_score\n",
    "\n",
    "# Assuming model, criterion, test_loader, device, writer, and epoch are already defined\n",
    "\n",
    "model.eval()\n",
    "test_loss = 0\n",
    "all_test_markers = []\n",
    "all_test_predictions = []\n",
    "with torch.no_grad():\n",
    "    for i, (markers, features) in tqdm(enumerate(test_loader)):\n",
    "        features = features.to(device)\n",
    "        markers = markers.unsqueeze(-1).to(device)\n",
    "\n",
    "        outputs = model(features)\n",
    "        loss = criterion(outputs, markers)\n",
    "        test_loss += loss.item()\n",
    "\n",
    "        # Collect markers and predictions for metrics calculation\n",
    "        all_test_markers.extend(markers.cpu().numpy().flatten())\n",
    "        all_test_predictions.extend(torch.sigmoid(outputs).cpu().numpy().flatten())\n",
    "\n",
    "test_loss /= len(test_loader)\n",
    "writer.add_scalar('Loss/test', test_loss, epoch)\n",
    "\n",
    "# Calculate test metrics\n",
    "test_accuracy = accuracy_score(all_test_markers, [1 if p > 0.5 else 0 for p in all_test_predictions])\n",
    "test_precision = precision_score(all_test_markers, [1 if p > 0.5 else 0 for p in all_test_predictions])\n",
    "test_recall = recall_score(all_test_markers, [1 if p > 0.5 else 0 for p in all_test_predictions])\n",
    "test_f1 = f1_score(all_test_markers, [1 if p > 0.5 else 0 for p in all_test_predictions])\n",
    "test_roc_auc = roc_auc_score(all_test_markers, all_test_predictions)\n",
    "\n",
    "# Log test metrics to TensorBoard\n",
    "writer.add_scalar('Metrics/test_accuracy', test_accuracy, epoch)\n",
    "writer.add_scalar('Metrics/test_precision', test_precision, epoch)\n",
    "writer.add_scalar('Metrics/test_recall', test_recall, epoch)\n",
    "writer.add_scalar('Metrics/test_f1', test_f1, epoch)\n",
    "writer.add_scalar('Metrics/test_roc_auc', test_roc_auc, epoch)\n",
    "\n",
    "# Close the TensorBoard writer\n",
    "writer.close()"
   ]
  },
  {
   "cell_type": "code",
   "execution_count": 20,
   "metadata": {},
   "outputs": [
    {
     "name": "stdout",
     "output_type": "stream",
     "text": [
      "\n",
      "test_accuracy=0.58675799086758\n",
      "test_precision=0.3173076923076923\n",
      "test_recall=0.23076923076923078\n",
      "test_f1=0.26720647773279355\n",
      "test_roc_auc=np.float64(0.5285053929121726)\n",
      "\n"
     ]
    }
   ],
   "source": [
    "print(f\"\"\"\n",
    "{test_accuracy=}\n",
    "{test_precision=}\n",
    "{test_recall=}\n",
    "{test_f1=}\n",
    "{test_roc_auc=}\n",
    "\"\"\"\n",
    ")"
   ]
  },
  {
   "cell_type": "code",
   "execution_count": 14,
   "metadata": {},
   "outputs": [
    {
     "data": {
      "application/vnd.jupyter.widget-view+json": {
       "model_id": "876bf510a9294084b2189f87d631b1c8",
       "version_major": 2,
       "version_minor": 0
      },
      "text/plain": [
       "  0%|          | 0/100 [00:00<?, ?it/s]"
      ]
     },
     "metadata": {},
     "output_type": "display_data"
    },
    {
     "name": "stdout",
     "output_type": "stream",
     "text": [
      "best_threshold=np.float64(0.0)\n",
      "best_f1=0.49225473321858865\n"
     ]
    }
   ],
   "source": [
    "from sklearn.metrics import f1_score\n",
    "import numpy as np\n",
    "best_threshold = 0.0\n",
    "best_f1 = 0.0\n",
    "thresholds = np.arange(0.0, 1.0, 0.01)\n",
    "\n",
    "for threshold in tqdm(thresholds):\n",
    "    binary_predictions = (all_test_predictions > threshold).astype(int)\n",
    "    current_recall = f1_score(all_test_markers, binary_predictions)\n",
    "\n",
    "    if current_recall > best_f1:\n",
    "        best_f1 = current_recall\n",
    "        best_threshold = threshold\n",
    "\n",
    "print(f\"{best_threshold=}\")\n",
    "print(f\"{best_f1=}\")"
   ]
  },
  {
   "cell_type": "code",
   "execution_count": 17,
   "metadata": {},
   "outputs": [
    {
     "data": {
      "application/vnd.jupyter.widget-view+json": {
       "model_id": "cffdd1294bb6476da89936113fd9a774",
       "version_major": 2,
       "version_minor": 0
      },
      "text/plain": [
       "  0%|          | 0/90 [00:00<?, ?it/s]"
      ]
     },
     "metadata": {},
     "output_type": "display_data"
    },
    {
     "name": "stdout",
     "output_type": "stream",
     "text": [
      "best_threshold=np.float64(0.1)\n",
      "best_recall=0.48951048951048953\n"
     ]
    }
   ],
   "source": [
    "from sklearn.metrics import recall_score\n",
    "import numpy as np\n",
    "best_threshold = 0.1\n",
    "best_recall = 0.0\n",
    "thresholds = np.arange(0.1, 1.0, 0.01)\n",
    "\n",
    "for threshold in tqdm(thresholds):\n",
    "    binary_predictions = (all_test_predictions > threshold).astype(int)\n",
    "    current_recall = recall_score(all_test_markers, binary_predictions)\n",
    "\n",
    "    if current_recall > best_recall:\n",
    "        best_recall = current_recall\n",
    "        best_threshold = threshold\n",
    "\n",
    "print(f\"{best_threshold=}\")\n",
    "print(f\"{best_recall=}\")"
   ]
  },
  {
   "cell_type": "code",
   "execution_count": null,
   "metadata": {},
   "outputs": [],
   "source": []
  }
 ],
 "metadata": {
  "kernelspec": {
   "display_name": ".venv",
   "language": "python",
   "name": "python3"
  },
  "language_info": {
   "codemirror_mode": {
    "name": "ipython",
    "version": 3
   },
   "file_extension": ".py",
   "mimetype": "text/x-python",
   "name": "python",
   "nbconvert_exporter": "python",
   "pygments_lexer": "ipython3",
   "version": "3.10.12"
  }
 },
 "nbformat": 4,
 "nbformat_minor": 2
}
