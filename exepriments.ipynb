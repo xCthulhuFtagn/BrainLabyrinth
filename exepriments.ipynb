{
 "cells": [
  {
   "cell_type": "code",
   "execution_count": 1,
   "metadata": {},
   "outputs": [
    {
     "name": "stdout",
     "output_type": "stream",
     "text": [
      "Finding 'sfreq' from header file: /home/owner/Documents/DEV/BrainLabyrinth/data/Ymaze_exp/15/Alim_Maze_15_2024-06-05_19-12-59.vhdr\n"
     ]
    },
    {
     "name": "stderr",
     "output_type": "stream",
     "text": [
      "/tmp/ipykernel_2997214/3426309007.py:16: RuntimeWarning: Limited 1 annotation(s) that were expanding outside the data range.\n",
      "  raw = mne.io.read_raw_brainvision(file_path, preload=True, ignore_marker_types=True, verbose=False)\n"
     ]
    },
    {
     "name": "stdout",
     "output_type": "stream",
     "text": [
      "Finding 'sfreq' from header file: /home/owner/Documents/DEV/BrainLabyrinth/data/Ymaze_exp/25/Alim_Maze_25_2024-06-14_19-37-38.vhdr\n"
     ]
    },
    {
     "name": "stderr",
     "output_type": "stream",
     "text": [
      "/tmp/ipykernel_2997214/3426309007.py:16: RuntimeWarning: Limited 1 annotation(s) that were expanding outside the data range.\n",
      "  raw = mne.io.read_raw_brainvision(file_path, preload=True, ignore_marker_types=True, verbose=False)\n"
     ]
    },
    {
     "name": "stdout",
     "output_type": "stream",
     "text": [
      "Finding 'sfreq' from header file: /home/owner/Documents/DEV/BrainLabyrinth/data/Ymaze_exp/30/Alim_Maze_29_2024-06-19_20-01-02.vhdr\n"
     ]
    },
    {
     "name": "stderr",
     "output_type": "stream",
     "text": [
      "/tmp/ipykernel_2997214/3426309007.py:16: RuntimeWarning: Limited 1 annotation(s) that were expanding outside the data range.\n",
      "  raw = mne.io.read_raw_brainvision(file_path, preload=True, ignore_marker_types=True, verbose=False)\n"
     ]
    },
    {
     "name": "stdout",
     "output_type": "stream",
     "text": [
      "Finding 'sfreq' from header file: /home/owner/Documents/DEV/BrainLabyrinth/data/Ymaze_exp/03/Alim_Maze_03_2023-12-19_15-24-50.vhdr\n"
     ]
    },
    {
     "name": "stderr",
     "output_type": "stream",
     "text": [
      "/tmp/ipykernel_2997214/3426309007.py:16: RuntimeWarning: Limited 1 annotation(s) that were expanding outside the data range.\n",
      "  raw = mne.io.read_raw_brainvision(file_path, preload=True, ignore_marker_types=True, verbose=False)\n"
     ]
    },
    {
     "name": "stdout",
     "output_type": "stream",
     "text": [
      "Finding 'sfreq' from header file: /home/owner/Documents/DEV/BrainLabyrinth/data/Ymaze_exp/33,34/Alim_Maze_33_2024-06-21_18-37-15.vhdr\n"
     ]
    },
    {
     "name": "stderr",
     "output_type": "stream",
     "text": [
      "/tmp/ipykernel_2997214/3426309007.py:16: RuntimeWarning: Limited 1 annotation(s) that were expanding outside the data range.\n",
      "  raw = mne.io.read_raw_brainvision(file_path, preload=True, ignore_marker_types=True, verbose=False)\n"
     ]
    },
    {
     "name": "stdout",
     "output_type": "stream",
     "text": [
      "Finding 'sfreq' from header file: /home/owner/Documents/DEV/BrainLabyrinth/data/Ymaze_exp/32.2/Alim_Maze_32_2024-06-21_13-07-05.vhdr\n"
     ]
    },
    {
     "name": "stderr",
     "output_type": "stream",
     "text": [
      "/tmp/ipykernel_2997214/3426309007.py:16: RuntimeWarning: Limited 1 annotation(s) that were expanding outside the data range.\n",
      "  raw = mne.io.read_raw_brainvision(file_path, preload=True, ignore_marker_types=True, verbose=False)\n"
     ]
    },
    {
     "name": "stdout",
     "output_type": "stream",
     "text": [
      "Finding 'sfreq' from header file: /home/owner/Documents/DEV/BrainLabyrinth/data/Ymaze_exp/04/Ymaze_Alim_04_2023-12-20_16-13-49.vhdr\n"
     ]
    },
    {
     "name": "stderr",
     "output_type": "stream",
     "text": [
      "/tmp/ipykernel_2997214/3426309007.py:16: RuntimeWarning: Limited 1 annotation(s) that were expanding outside the data range.\n",
      "  raw = mne.io.read_raw_brainvision(file_path, preload=True, ignore_marker_types=True, verbose=False)\n"
     ]
    },
    {
     "name": "stdout",
     "output_type": "stream",
     "text": [
      "Finding 'sfreq' from header file: /home/owner/Documents/DEV/BrainLabyrinth/data/Ymaze_exp/23/Alim_Maze_23_2024-06-13_10-58-00.vhdr\n"
     ]
    },
    {
     "name": "stderr",
     "output_type": "stream",
     "text": [
      "/tmp/ipykernel_2997214/3426309007.py:16: RuntimeWarning: Limited 1 annotation(s) that were expanding outside the data range.\n",
      "  raw = mne.io.read_raw_brainvision(file_path, preload=True, ignore_marker_types=True, verbose=False)\n"
     ]
    },
    {
     "name": "stdout",
     "output_type": "stream",
     "text": [
      "Finding 'sfreq' from header file: /home/owner/Documents/DEV/BrainLabyrinth/data/Ymaze_exp/17/Alim_Maze_17_2024-06-07_18-03-41.vhdr\n"
     ]
    },
    {
     "name": "stderr",
     "output_type": "stream",
     "text": [
      "/tmp/ipykernel_2997214/3426309007.py:16: RuntimeWarning: Limited 1 annotation(s) that were expanding outside the data range.\n",
      "  raw = mne.io.read_raw_brainvision(file_path, preload=True, ignore_marker_types=True, verbose=False)\n"
     ]
    },
    {
     "name": "stdout",
     "output_type": "stream",
     "text": [
      "Finding 'sfreq' from header file: /home/owner/Documents/DEV/BrainLabyrinth/data/Ymaze_exp/45/Alim_Maze_45_2024-06-28_16-58-50.vhdr\n"
     ]
    },
    {
     "name": "stderr",
     "output_type": "stream",
     "text": [
      "/tmp/ipykernel_2997214/3426309007.py:16: RuntimeWarning: Limited 1 annotation(s) that were expanding outside the data range.\n",
      "  raw = mne.io.read_raw_brainvision(file_path, preload=True, ignore_marker_types=True, verbose=False)\n"
     ]
    },
    {
     "name": "stdout",
     "output_type": "stream",
     "text": [
      "Finding 'sfreq' from header file: /home/owner/Documents/DEV/BrainLabyrinth/data/Ymaze_exp/20/Alim_Maze_20_2024-06-10_19-14-13.vhdr\n"
     ]
    },
    {
     "name": "stderr",
     "output_type": "stream",
     "text": [
      "/tmp/ipykernel_2997214/3426309007.py:16: RuntimeWarning: Limited 1 annotation(s) that were expanding outside the data range.\n",
      "  raw = mne.io.read_raw_brainvision(file_path, preload=True, ignore_marker_types=True, verbose=False)\n"
     ]
    },
    {
     "name": "stdout",
     "output_type": "stream",
     "text": [
      "Finding 'sfreq' from header file: /home/owner/Documents/DEV/BrainLabyrinth/data/Ymaze_exp/47/Alim_Maze_47_2024-06-29_13-11-01.vhdr\n"
     ]
    },
    {
     "name": "stderr",
     "output_type": "stream",
     "text": [
      "/tmp/ipykernel_2997214/3426309007.py:16: RuntimeWarning: Limited 1 annotation(s) that were expanding outside the data range.\n",
      "  raw = mne.io.read_raw_brainvision(file_path, preload=True, ignore_marker_types=True, verbose=False)\n"
     ]
    },
    {
     "name": "stdout",
     "output_type": "stream",
     "text": [
      "Finding 'sfreq' from header file: /home/owner/Documents/DEV/BrainLabyrinth/data/Ymaze_exp/12/Alim_Maze_12_2024-06-04_19-59-10.vhdr\n"
     ]
    },
    {
     "name": "stderr",
     "output_type": "stream",
     "text": [
      "/tmp/ipykernel_2997214/3426309007.py:16: RuntimeWarning: Limited 1 annotation(s) that were expanding outside the data range.\n",
      "  raw = mne.io.read_raw_brainvision(file_path, preload=True, ignore_marker_types=True, verbose=False)\n"
     ]
    },
    {
     "name": "stdout",
     "output_type": "stream",
     "text": [
      "Finding 'sfreq' from header file: /home/owner/Documents/DEV/BrainLabyrinth/data/Ymaze_exp/13/Alim_Maze_13_2024-06-05_12-48-22.vhdr\n"
     ]
    },
    {
     "name": "stderr",
     "output_type": "stream",
     "text": [
      "/tmp/ipykernel_2997214/3426309007.py:16: RuntimeWarning: Limited 1 annotation(s) that were expanding outside the data range.\n",
      "  raw = mne.io.read_raw_brainvision(file_path, preload=True, ignore_marker_types=True, verbose=False)\n"
     ]
    },
    {
     "name": "stdout",
     "output_type": "stream",
     "text": [
      "Finding 'sfreq' from header file: /home/owner/Documents/DEV/BrainLabyrinth/data/Ymaze_exp/36/Alim_Maze_36_2024-06-24_14-24-17.vhdr\n"
     ]
    },
    {
     "name": "stderr",
     "output_type": "stream",
     "text": [
      "/tmp/ipykernel_2997214/3426309007.py:16: RuntimeWarning: Limited 1 annotation(s) that were expanding outside the data range.\n",
      "  raw = mne.io.read_raw_brainvision(file_path, preload=True, ignore_marker_types=True, verbose=False)\n"
     ]
    },
    {
     "name": "stdout",
     "output_type": "stream",
     "text": [
      "Finding 'sfreq' from header file: /home/owner/Documents/DEV/BrainLabyrinth/data/Ymaze_exp/11/Alim_Maze_11_2024-06-03_19-23-27.vhdr\n"
     ]
    },
    {
     "name": "stderr",
     "output_type": "stream",
     "text": [
      "/tmp/ipykernel_2997214/3426309007.py:16: RuntimeWarning: Limited 1 annotation(s) that were expanding outside the data range.\n",
      "  raw = mne.io.read_raw_brainvision(file_path, preload=True, ignore_marker_types=True, verbose=False)\n"
     ]
    },
    {
     "name": "stdout",
     "output_type": "stream",
     "text": [
      "Finding 'sfreq' from header file: /home/owner/Documents/DEV/BrainLabyrinth/data/Ymaze_exp/10/Alim_Maze_10_2024-06-01_10-55-00.vhdr\n"
     ]
    },
    {
     "name": "stderr",
     "output_type": "stream",
     "text": [
      "/tmp/ipykernel_2997214/3426309007.py:16: RuntimeWarning: Limited 1 annotation(s) that were expanding outside the data range.\n",
      "  raw = mne.io.read_raw_brainvision(file_path, preload=True, ignore_marker_types=True, verbose=False)\n"
     ]
    },
    {
     "name": "stdout",
     "output_type": "stream",
     "text": [
      "Finding 'sfreq' from header file: /home/owner/Documents/DEV/BrainLabyrinth/data/Ymaze_exp/01/Alim_Maze_01_2023-12-18_14-59-15.vhdr\n"
     ]
    },
    {
     "name": "stderr",
     "output_type": "stream",
     "text": [
      "/tmp/ipykernel_2997214/3426309007.py:16: RuntimeWarning: Limited 1 annotation(s) that were expanding outside the data range.\n",
      "  raw = mne.io.read_raw_brainvision(file_path, preload=True, ignore_marker_types=True, verbose=False)\n"
     ]
    },
    {
     "name": "stdout",
     "output_type": "stream",
     "text": [
      "Finding 'sfreq' from header file: /home/owner/Documents/DEV/BrainLabyrinth/data/Ymaze_exp/32/Alim_Maze_32_2024-06-21_13-23-59.vhdr\n"
     ]
    },
    {
     "name": "stderr",
     "output_type": "stream",
     "text": [
      "/tmp/ipykernel_2997214/3426309007.py:16: RuntimeWarning: Limited 1 annotation(s) that were expanding outside the data range.\n",
      "  raw = mne.io.read_raw_brainvision(file_path, preload=True, ignore_marker_types=True, verbose=False)\n"
     ]
    },
    {
     "name": "stdout",
     "output_type": "stream",
     "text": [
      "Finding 'sfreq' from header file: /home/owner/Documents/DEV/BrainLabyrinth/data/Ymaze_exp/18/Alim_Maze_18_2024-06-08_11-45-45.vhdr\n"
     ]
    },
    {
     "name": "stderr",
     "output_type": "stream",
     "text": [
      "/tmp/ipykernel_2997214/3426309007.py:16: RuntimeWarning: Limited 1 annotation(s) that were expanding outside the data range.\n",
      "  raw = mne.io.read_raw_brainvision(file_path, preload=True, ignore_marker_types=True, verbose=False)\n"
     ]
    },
    {
     "name": "stdout",
     "output_type": "stream",
     "text": [
      "Finding 'sfreq' from header file: /home/owner/Documents/DEV/BrainLabyrinth/data/Ymaze_exp/02/Alim_Maze_02_2023-12-19_14-09-45.vhdr\n"
     ]
    },
    {
     "name": "stderr",
     "output_type": "stream",
     "text": [
      "/tmp/ipykernel_2997214/3426309007.py:16: RuntimeWarning: Limited 1 annotation(s) that were expanding outside the data range.\n",
      "  raw = mne.io.read_raw_brainvision(file_path, preload=True, ignore_marker_types=True, verbose=False)\n"
     ]
    },
    {
     "name": "stdout",
     "output_type": "stream",
     "text": [
      "Finding 'sfreq' from header file: /home/owner/Documents/DEV/BrainLabyrinth/data/Ymaze_exp/27/Alim_Maze_27_2024-06-18_12-45-36.vhdr\n"
     ]
    },
    {
     "name": "stderr",
     "output_type": "stream",
     "text": [
      "/tmp/ipykernel_2997214/3426309007.py:16: RuntimeWarning: Limited 1 annotation(s) that were expanding outside the data range.\n",
      "  raw = mne.io.read_raw_brainvision(file_path, preload=True, ignore_marker_types=True, verbose=False)\n"
     ]
    },
    {
     "name": "stdout",
     "output_type": "stream",
     "text": [
      "Finding 'sfreq' from header file: /home/owner/Documents/DEV/BrainLabyrinth/data/Ymaze_exp/43/Alim_Maze_43_2024-06-27_12-07-43.vhdr\n"
     ]
    },
    {
     "name": "stderr",
     "output_type": "stream",
     "text": [
      "/tmp/ipykernel_2997214/3426309007.py:16: RuntimeWarning: Limited 1 annotation(s) that were expanding outside the data range.\n",
      "  raw = mne.io.read_raw_brainvision(file_path, preload=True, ignore_marker_types=True, verbose=False)\n"
     ]
    },
    {
     "name": "stdout",
     "output_type": "stream",
     "text": [
      "Finding 'sfreq' from header file: /home/owner/Documents/DEV/BrainLabyrinth/data/Ymaze_exp/09/Alim_Maze_09_2024-05-30_15-10-58.vhdr\n"
     ]
    },
    {
     "name": "stderr",
     "output_type": "stream",
     "text": [
      "/tmp/ipykernel_2997214/3426309007.py:16: RuntimeWarning: Limited 1 annotation(s) that were expanding outside the data range.\n",
      "  raw = mne.io.read_raw_brainvision(file_path, preload=True, ignore_marker_types=True, verbose=False)\n"
     ]
    },
    {
     "name": "stdout",
     "output_type": "stream",
     "text": [
      "Finding 'sfreq' from header file: /home/owner/Documents/DEV/BrainLabyrinth/data/Ymaze_exp/40/Alim_Maze_40_2024-06-26_12-02-36.vhdr\n"
     ]
    },
    {
     "name": "stderr",
     "output_type": "stream",
     "text": [
      "/tmp/ipykernel_2997214/3426309007.py:16: RuntimeWarning: Limited 1 annotation(s) that were expanding outside the data range.\n",
      "  raw = mne.io.read_raw_brainvision(file_path, preload=True, ignore_marker_types=True, verbose=False)\n"
     ]
    },
    {
     "name": "stdout",
     "output_type": "stream",
     "text": [
      "Finding 'sfreq' from header file: /home/owner/Documents/DEV/BrainLabyrinth/data/Ymaze_exp/42/Alim_Maze_42_2024-06-26_19-00-27.vhdr\n"
     ]
    },
    {
     "name": "stderr",
     "output_type": "stream",
     "text": [
      "/tmp/ipykernel_2997214/3426309007.py:16: RuntimeWarning: Limited 1 annotation(s) that were expanding outside the data range.\n",
      "  raw = mne.io.read_raw_brainvision(file_path, preload=True, ignore_marker_types=True, verbose=False)\n"
     ]
    },
    {
     "name": "stdout",
     "output_type": "stream",
     "text": [
      "Finding 'sfreq' from header file: /home/owner/Documents/DEV/BrainLabyrinth/data/Ymaze_exp/48/Alim_Maze_48_2024-06-29_14-38-08.vhdr\n"
     ]
    },
    {
     "name": "stderr",
     "output_type": "stream",
     "text": [
      "/tmp/ipykernel_2997214/3426309007.py:16: RuntimeWarning: Limited 1 annotation(s) that were expanding outside the data range.\n",
      "  raw = mne.io.read_raw_brainvision(file_path, preload=True, ignore_marker_types=True, verbose=False)\n"
     ]
    },
    {
     "name": "stdout",
     "output_type": "stream",
     "text": [
      "Finding 'sfreq' from header file: /home/owner/Documents/DEV/BrainLabyrinth/data/Ymaze_exp/37/Alim_Maze_37_2024-06-25_11-38-18.vhdr\n"
     ]
    },
    {
     "name": "stderr",
     "output_type": "stream",
     "text": [
      "/tmp/ipykernel_2997214/3426309007.py:16: RuntimeWarning: Limited 1 annotation(s) that were expanding outside the data range.\n",
      "  raw = mne.io.read_raw_brainvision(file_path, preload=True, ignore_marker_types=True, verbose=False)\n"
     ]
    },
    {
     "name": "stdout",
     "output_type": "stream",
     "text": [
      "Finding 'sfreq' from header file: /home/owner/Documents/DEV/BrainLabyrinth/data/Ymaze_exp/39/Alim_Maze_39_2024-06-25_19-43-58.vhdr\n"
     ]
    },
    {
     "name": "stderr",
     "output_type": "stream",
     "text": [
      "/tmp/ipykernel_2997214/3426309007.py:16: RuntimeWarning: Limited 1 annotation(s) that were expanding outside the data range.\n",
      "  raw = mne.io.read_raw_brainvision(file_path, preload=True, ignore_marker_types=True, verbose=False)\n"
     ]
    },
    {
     "name": "stdout",
     "output_type": "stream",
     "text": [
      "Finding 'sfreq' from header file: /home/owner/Documents/DEV/BrainLabyrinth/data/Ymaze_exp/31/Alim_Maze_31_2024-06-20_13-20-09.vhdr\n"
     ]
    },
    {
     "name": "stderr",
     "output_type": "stream",
     "text": [
      "/tmp/ipykernel_2997214/3426309007.py:16: RuntimeWarning: Limited 1 annotation(s) that were expanding outside the data range.\n",
      "  raw = mne.io.read_raw_brainvision(file_path, preload=True, ignore_marker_types=True, verbose=False)\n"
     ]
    },
    {
     "name": "stdout",
     "output_type": "stream",
     "text": [
      "Finding 'sfreq' from header file: /home/owner/Documents/DEV/BrainLabyrinth/data/Ymaze_exp/50/Alim_Maze_50_2024-07-02_14-32-40.vhdr\n"
     ]
    },
    {
     "name": "stderr",
     "output_type": "stream",
     "text": [
      "/tmp/ipykernel_2997214/3426309007.py:16: RuntimeWarning: Limited 1 annotation(s) that were expanding outside the data range.\n",
      "  raw = mne.io.read_raw_brainvision(file_path, preload=True, ignore_marker_types=True, verbose=False)\n"
     ]
    },
    {
     "name": "stdout",
     "output_type": "stream",
     "text": [
      "Finding 'sfreq' from header file: /home/owner/Documents/DEV/BrainLabyrinth/data/Ymaze_exp/51/Alim_Maze_51_2024-07-03_18-51-34.vhdr\n"
     ]
    },
    {
     "name": "stderr",
     "output_type": "stream",
     "text": [
      "/tmp/ipykernel_2997214/3426309007.py:16: RuntimeWarning: Limited 1 annotation(s) that were expanding outside the data range.\n",
      "  raw = mne.io.read_raw_brainvision(file_path, preload=True, ignore_marker_types=True, verbose=False)\n"
     ]
    },
    {
     "name": "stdout",
     "output_type": "stream",
     "text": [
      "Finding 'sfreq' from header file: /home/owner/Documents/DEV/BrainLabyrinth/data/Ymaze_exp/24/Alim_Maze_24_2024-06-13_12-48-31.vhdr\n"
     ]
    },
    {
     "name": "stderr",
     "output_type": "stream",
     "text": [
      "/tmp/ipykernel_2997214/3426309007.py:16: RuntimeWarning: Limited 1 annotation(s) that were expanding outside the data range.\n",
      "  raw = mne.io.read_raw_brainvision(file_path, preload=True, ignore_marker_types=True, verbose=False)\n"
     ]
    },
    {
     "name": "stdout",
     "output_type": "stream",
     "text": [
      "Finding 'sfreq' from header file: /home/owner/Documents/DEV/BrainLabyrinth/data/Ymaze_exp/44/Alim_Maze_44_2024-06-27_14-36-09.vhdr\n"
     ]
    },
    {
     "name": "stderr",
     "output_type": "stream",
     "text": [
      "/tmp/ipykernel_2997214/3426309007.py:16: RuntimeWarning: Limited 1 annotation(s) that were expanding outside the data range.\n",
      "  raw = mne.io.read_raw_brainvision(file_path, preload=True, ignore_marker_types=True, verbose=False)\n"
     ]
    },
    {
     "name": "stdout",
     "output_type": "stream",
     "text": [
      "Finding 'sfreq' from header file: /home/owner/Documents/DEV/BrainLabyrinth/data/Ymaze_exp/06/Alim_Maze_06_2023-12-21_14-34-26.vhdr\n"
     ]
    },
    {
     "name": "stderr",
     "output_type": "stream",
     "text": [
      "/tmp/ipykernel_2997214/3426309007.py:16: RuntimeWarning: Limited 1 annotation(s) that were expanding outside the data range.\n",
      "  raw = mne.io.read_raw_brainvision(file_path, preload=True, ignore_marker_types=True, verbose=False)\n"
     ]
    },
    {
     "name": "stdout",
     "output_type": "stream",
     "text": [
      "Finding 'sfreq' from header file: /home/owner/Documents/DEV/BrainLabyrinth/data/Ymaze_exp/16/Alim_Maze_16_2024-06-06_18-37-17.vhdr\n"
     ]
    },
    {
     "name": "stderr",
     "output_type": "stream",
     "text": [
      "/tmp/ipykernel_2997214/3426309007.py:16: RuntimeWarning: Limited 1 annotation(s) that were expanding outside the data range.\n",
      "  raw = mne.io.read_raw_brainvision(file_path, preload=True, ignore_marker_types=True, verbose=False)\n"
     ]
    },
    {
     "name": "stdout",
     "output_type": "stream",
     "text": [
      "Finding 'sfreq' from header file: /home/owner/Documents/DEV/BrainLabyrinth/data/Ymaze_exp/26/Alim_Maze_26_2024-06-15_12-34-59.vhdr\n"
     ]
    },
    {
     "name": "stderr",
     "output_type": "stream",
     "text": [
      "/tmp/ipykernel_2997214/3426309007.py:16: RuntimeWarning: Limited 1 annotation(s) that were expanding outside the data range.\n",
      "  raw = mne.io.read_raw_brainvision(file_path, preload=True, ignore_marker_types=True, verbose=False)\n"
     ]
    },
    {
     "name": "stdout",
     "output_type": "stream",
     "text": [
      "Finding 'sfreq' from header file: /home/owner/Documents/DEV/BrainLabyrinth/data/Ymaze_exp/28/Alim_Maze_28_2024-06-19_12-36-10.vhdr\n"
     ]
    },
    {
     "name": "stderr",
     "output_type": "stream",
     "text": [
      "/tmp/ipykernel_2997214/3426309007.py:16: RuntimeWarning: Limited 1 annotation(s) that were expanding outside the data range.\n",
      "  raw = mne.io.read_raw_brainvision(file_path, preload=True, ignore_marker_types=True, verbose=False)\n"
     ]
    },
    {
     "name": "stdout",
     "output_type": "stream",
     "text": [
      "Finding 'sfreq' from header file: /home/owner/Documents/DEV/BrainLabyrinth/data/Ymaze_exp/35/Alim_Maze_35_2024-06-22_13-41-01.vhdr\n"
     ]
    },
    {
     "name": "stderr",
     "output_type": "stream",
     "text": [
      "/tmp/ipykernel_2997214/3426309007.py:16: RuntimeWarning: Limited 1 annotation(s) that were expanding outside the data range.\n",
      "  raw = mne.io.read_raw_brainvision(file_path, preload=True, ignore_marker_types=True, verbose=False)\n"
     ]
    },
    {
     "name": "stdout",
     "output_type": "stream",
     "text": [
      "Finding 'sfreq' from header file: /home/owner/Documents/DEV/BrainLabyrinth/data/Ymaze_exp/49/Alim_Maze_49_2024-07-01_19-24-47.vhdr\n"
     ]
    },
    {
     "name": "stderr",
     "output_type": "stream",
     "text": [
      "/tmp/ipykernel_2997214/3426309007.py:16: RuntimeWarning: Limited 1 annotation(s) that were expanding outside the data range.\n",
      "  raw = mne.io.read_raw_brainvision(file_path, preload=True, ignore_marker_types=True, verbose=False)\n"
     ]
    },
    {
     "name": "stdout",
     "output_type": "stream",
     "text": [
      "Finding 'sfreq' from header file: /home/owner/Documents/DEV/BrainLabyrinth/data/Ymaze_exp/07/Alim_Maze_07_2024-05-29_18-15-29.vhdr\n"
     ]
    },
    {
     "name": "stderr",
     "output_type": "stream",
     "text": [
      "/tmp/ipykernel_2997214/3426309007.py:16: RuntimeWarning: Limited 1 annotation(s) that were expanding outside the data range.\n",
      "  raw = mne.io.read_raw_brainvision(file_path, preload=True, ignore_marker_types=True, verbose=False)\n"
     ]
    },
    {
     "name": "stdout",
     "output_type": "stream",
     "text": [
      "Finding 'sfreq' from header file: /home/owner/Documents/DEV/BrainLabyrinth/data/Ymaze_exp/22/Alim_Maze_22_2024-06-11_18-58-09.vhdr\n"
     ]
    },
    {
     "name": "stderr",
     "output_type": "stream",
     "text": [
      "/tmp/ipykernel_2997214/3426309007.py:16: RuntimeWarning: Limited 1 annotation(s) that were expanding outside the data range.\n",
      "  raw = mne.io.read_raw_brainvision(file_path, preload=True, ignore_marker_types=True, verbose=False)\n"
     ]
    },
    {
     "name": "stdout",
     "output_type": "stream",
     "text": [
      "Finding 'sfreq' from header file: /home/owner/Documents/DEV/BrainLabyrinth/data/Ymaze_exp/14/Alim_Maze_14_2024-06-05_16-02-30.vhdr\n"
     ]
    },
    {
     "name": "stderr",
     "output_type": "stream",
     "text": [
      "/tmp/ipykernel_2997214/3426309007.py:16: RuntimeWarning: Limited 1 annotation(s) that were expanding outside the data range.\n",
      "  raw = mne.io.read_raw_brainvision(file_path, preload=True, ignore_marker_types=True, verbose=False)\n"
     ]
    },
    {
     "name": "stdout",
     "output_type": "stream",
     "text": [
      "Finding 'sfreq' from header file: /home/owner/Documents/DEV/BrainLabyrinth/data/Ymaze_exp/19/Alim_Maze_19_2024-06-10_11-41-03.vhdr\n"
     ]
    },
    {
     "name": "stderr",
     "output_type": "stream",
     "text": [
      "/tmp/ipykernel_2997214/3426309007.py:16: RuntimeWarning: Limited 1 annotation(s) that were expanding outside the data range.\n",
      "  raw = mne.io.read_raw_brainvision(file_path, preload=True, ignore_marker_types=True, verbose=False)\n"
     ]
    },
    {
     "name": "stdout",
     "output_type": "stream",
     "text": [
      "Finding 'sfreq' from header file: /home/owner/Documents/DEV/BrainLabyrinth/data/Ymaze_exp/52/Alim_Maze_52_2024-07-09_18-52-05.vhdr\n"
     ]
    },
    {
     "name": "stderr",
     "output_type": "stream",
     "text": [
      "/tmp/ipykernel_2997214/3426309007.py:16: RuntimeWarning: Limited 1 annotation(s) that were expanding outside the data range.\n",
      "  raw = mne.io.read_raw_brainvision(file_path, preload=True, ignore_marker_types=True, verbose=False)\n"
     ]
    },
    {
     "name": "stdout",
     "output_type": "stream",
     "text": [
      "Finding 'sfreq' from header file: /home/owner/Documents/DEV/BrainLabyrinth/data/Ymaze_exp/05/Alim_Maze_05_2023-12-20_17-44-28.vhdr\n"
     ]
    },
    {
     "name": "stderr",
     "output_type": "stream",
     "text": [
      "/tmp/ipykernel_2997214/3426309007.py:16: RuntimeWarning: Limited 1 annotation(s) that were expanding outside the data range.\n",
      "  raw = mne.io.read_raw_brainvision(file_path, preload=True, ignore_marker_types=True, verbose=False)\n"
     ]
    },
    {
     "name": "stdout",
     "output_type": "stream",
     "text": [
      "Finding 'sfreq' from header file: /home/owner/Documents/DEV/BrainLabyrinth/data/Ymaze_exp/53/Alim_Maze_53_2024-07-13_12-13-14.vhdr\n"
     ]
    },
    {
     "name": "stderr",
     "output_type": "stream",
     "text": [
      "/tmp/ipykernel_2997214/3426309007.py:16: RuntimeWarning: Limited 1 annotation(s) that were expanding outside the data range.\n",
      "  raw = mne.io.read_raw_brainvision(file_path, preload=True, ignore_marker_types=True, verbose=False)\n"
     ]
    },
    {
     "name": "stdout",
     "output_type": "stream",
     "text": [
      "Finding 'sfreq' from header file: /home/owner/Documents/DEV/BrainLabyrinth/data/Ymaze_exp/29/Alim_Maze_29_2024-06-19_20-01-02.vhdr\n"
     ]
    },
    {
     "name": "stderr",
     "output_type": "stream",
     "text": [
      "/tmp/ipykernel_2997214/3426309007.py:16: RuntimeWarning: Limited 1 annotation(s) that were expanding outside the data range.\n",
      "  raw = mne.io.read_raw_brainvision(file_path, preload=True, ignore_marker_types=True, verbose=False)\n"
     ]
    },
    {
     "name": "stdout",
     "output_type": "stream",
     "text": [
      "Finding 'sfreq' from header file: /home/owner/Documents/DEV/BrainLabyrinth/data/Ymaze_exp/21/Alim_Maze_21_2024-06-11_16-50-48.vhdr\n"
     ]
    },
    {
     "name": "stderr",
     "output_type": "stream",
     "text": [
      "/tmp/ipykernel_2997214/3426309007.py:16: RuntimeWarning: Limited 1 annotation(s) that were expanding outside the data range.\n",
      "  raw = mne.io.read_raw_brainvision(file_path, preload=True, ignore_marker_types=True, verbose=False)\n"
     ]
    },
    {
     "name": "stdout",
     "output_type": "stream",
     "text": [
      "Finding 'sfreq' from header file: /home/owner/Documents/DEV/BrainLabyrinth/data/Ymaze_exp/41/Alim_Maze_41_2024-06-26_16-04-02.vhdr\n"
     ]
    },
    {
     "name": "stderr",
     "output_type": "stream",
     "text": [
      "/tmp/ipykernel_2997214/3426309007.py:16: RuntimeWarning: Limited 1 annotation(s) that were expanding outside the data range.\n",
      "  raw = mne.io.read_raw_brainvision(file_path, preload=True, ignore_marker_types=True, verbose=False)\n"
     ]
    },
    {
     "name": "stdout",
     "output_type": "stream",
     "text": [
      "Finding 'sfreq' from header file: /home/owner/Documents/DEV/BrainLabyrinth/data/Ymaze_exp/38/Alim_Maze_38_2024-06-25_17-28-30.vhdr\n"
     ]
    },
    {
     "name": "stderr",
     "output_type": "stream",
     "text": [
      "/tmp/ipykernel_2997214/3426309007.py:16: RuntimeWarning: Limited 1 annotation(s) that were expanding outside the data range.\n",
      "  raw = mne.io.read_raw_brainvision(file_path, preload=True, ignore_marker_types=True, verbose=False)\n"
     ]
    },
    {
     "name": "stdout",
     "output_type": "stream",
     "text": [
      "Finding 'sfreq' from header file: /home/owner/Documents/DEV/BrainLabyrinth/data/Ymaze_exp/46/Alim_Maze_46_2024-06-28_18-42-28.vhdr\n"
     ]
    },
    {
     "name": "stderr",
     "output_type": "stream",
     "text": [
      "/tmp/ipykernel_2997214/3426309007.py:16: RuntimeWarning: Limited 1 annotation(s) that were expanding outside the data range.\n",
      "  raw = mne.io.read_raw_brainvision(file_path, preload=True, ignore_marker_types=True, verbose=False)\n"
     ]
    },
    {
     "name": "stdout",
     "output_type": "stream",
     "text": [
      "Finding 'sfreq' from header file: /home/owner/Documents/DEV/BrainLabyrinth/data/Ymaze_exp/08/Alim_Maze_08_2024-05-30_13-47-25.vhdr\n"
     ]
    },
    {
     "name": "stderr",
     "output_type": "stream",
     "text": [
      "/tmp/ipykernel_2997214/3426309007.py:16: RuntimeWarning: Limited 1 annotation(s) that were expanding outside the data range.\n",
      "  raw = mne.io.read_raw_brainvision(file_path, preload=True, ignore_marker_types=True, verbose=False)\n"
     ]
    }
   ],
   "source": [
    "import os\n",
    "import mne\n",
    "import pandas as pd\n",
    "import numpy as np\n",
    "import janitor\n",
    "\n",
    "data_path = '/home/owner/Documents/DEV/BrainLabyrinth/data/Ymaze_exp'\n",
    "final_dataset_path = '/home/owner/Documents/DEV/BrainLabyrinth/data/final_dataset'\n",
    "for user_id in os.listdir(data_path):\n",
    "    person_dir = os.path.join(data_path, user_id)\n",
    "    for file in os.listdir(person_dir):\n",
    "        file_path = os.path.join(person_dir, file)\n",
    "\n",
    "        if file.endswith(\".vhdr\"):\n",
    "            # Read the EEG data\n",
    "            raw = mne.io.read_raw_brainvision(file_path, preload=True, ignore_marker_types=True, verbose=False)\n",
    "\n",
    "            # Find the corresponding .vmrk file\n",
    "            vmrk_file = file.replace('.vhdr', '.vmrk')\n",
    "            vmrk_file_path = os.path.join(person_dir, vmrk_file)\n",
    "\n",
    "            if os.path.exists(vmrk_file_path):\n",
    "                # Read the annotations (markers) from the .vmrk file\n",
    "                annotations = mne.annotations.read_annotations(vmrk_file_path)\n",
    "\n",
    "                # Add the annotations to the raw object\n",
    "                # raw.set_annotations(annotations)\n",
    "                # print(\"Markers added from the .vmrk file\")\n",
    "\n",
    "            # Convert raw data to DataFrame\n",
    "            time_series = raw.to_data_frame()\n",
    "\n",
    "            # Extract markers (annotations)\n",
    "            # print(f\"{annotations=}\")\n",
    "            marker_times = annotations.onset  # In seconds\n",
    "            marker_labels = annotations.description  # The marker labels\n",
    "\n",
    "            # Create a DataFrame for the markers\n",
    "            markers_df = pd.DataFrame({\n",
    "                'event_id': np.arange(len(marker_labels)), \n",
    "                'start': marker_times - 3.0,\n",
    "                'end': marker_times + 1.0,\n",
    "                'marker': marker_labels\n",
    "            })\n",
    "\n",
    "            # Display the first few rows of both DataFrames\n",
    "            # Merge markers with EEG data\n",
    "            time_series['time'] = time_series['time'].round(3)  # Round times to 3 decimal places for matching\n",
    "\n",
    "            merged_df = janitor.conditional_join(\n",
    "                markers_df, \n",
    "                time_series,\n",
    "                ('start', 'time', '<='),\n",
    "                ('end', 'time', '>='),\n",
    "                how='left',\n",
    "                df_columns=['event_id', 'marker']\n",
    "            )\n",
    "\n",
    "            merged_path = os.path.join(final_dataset_path, f\"{user_id}.parquet\")\n",
    "            merged_df.to_parquet(merged_path)\n"
   ]
  }
 ],
 "metadata": {
  "kernelspec": {
   "display_name": ".venv",
   "language": "python",
   "name": "python3"
  },
  "language_info": {
   "codemirror_mode": {
    "name": "ipython",
    "version": 3
   },
   "file_extension": ".py",
   "mimetype": "text/x-python",
   "name": "python",
   "nbconvert_exporter": "python",
   "pygments_lexer": "ipython3",
   "version": "3.10.12"
  }
 },
 "nbformat": 4,
 "nbformat_minor": 2
}
